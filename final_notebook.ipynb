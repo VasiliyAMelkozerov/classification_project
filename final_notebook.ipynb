{
 "cells": [
  {
   "cell_type": "markdown",
   "id": "dbd922e6",
   "metadata": {},
   "source": [
    "<h1>\n",
    "    Churn butter not customers\n",
    "</h1>"
   ]
  },
  {
   "cell_type": "code",
   "execution_count": 1,
   "id": "28957c33",
   "metadata": {},
   "outputs": [],
   "source": [
    "import pandas as pd\n",
    "import numpy as np\n",
    "import os\n",
    "import scipy.stats as stats\n",
    "\n",
    "# Viz imports\n",
    "import matplotlib.pyplot as plt\n",
    "import seaborn as sns\n",
    "\n",
    "# Modeling imports\n",
    "from sklearn.model_selection import train_test_split\n",
    "from sklearn.tree import DecisionTreeClassifier, plot_tree, export_text\n",
    "from sklearn.linear_model import LogisticRegression\n",
    "from sklearn.metrics import classification_report, confusion_matrix, accuracy_score\n",
    "\n",
    "import warnings\n",
    "warnings.filterwarnings(\"ignore\")\n",
    "\n",
    "# Custom module imports\n",
    "import acquire\n",
    "import prepare\n",
    "# import explore\n",
    "# from model import score_models\n"
   ]
  },
  {
   "cell_type": "markdown",
   "id": "f23c8e20",
   "metadata": {},
   "source": [
    "<hr>"
   ]
  },
  {
   "cell_type": "markdown",
   "id": "2e4bd68b",
   "metadata": {},
   "source": [
    "<h2>\n",
    "    Planning\n",
    "</h2>\n",
    "\n",
    "- Create README.md with data dictionary, project and business goals, come up with initial hypotheses.\n",
    "(half-started, not finished)\n",
    "- Acquire data from the Codeup Database and create a function to automate this process. Save the function in an acquire.py file to import into the Final Report Notebook.\n",
    "(DONE)\n",
    "- Clean and prepare data for the first iteration through the pipeline, MVP preparation. Create a function to automate the process, store the function in a prepare.py module, and prepare data in Final Report Notebook by importing and using the funtion.\n",
    "(DONE, mostly may need more target variables to work through)\n",
    "- Clearly define two hypotheses, set an alpha, run the statistical tests needed, reject or fail to reject the Null Hypothesis, and document findings and takeaways.\n",
    "(my two hypotheses will be when I find the heaviest weights in variables)\n",
    "- Establish a baseline accuracy and document well.\n",
    "- Train three different classification models.\n",
    "- Evaluate models on train and validate datasets.\n",
    "- Choose the model with that performs the best and evaluate that single model on the test dataset.\n",
    "- Create csv file with the measurement id, the probability of the target values, and the model's prediction for each observation in my test dataset.\n",
    "    Document conclusions, takeaways, and next steps in the Final Report Notebook.\n",
    "\n"
   ]
  },
  {
   "cell_type": "markdown",
   "id": "9a62db11",
   "metadata": {},
   "source": [
    "<h2>\n",
    "    Acquire\n",
    "</h2>"
   ]
  },
  {
   "cell_type": "code",
   "execution_count": 2,
   "id": "d09b25e0",
   "metadata": {},
   "outputs": [
    {
     "data": {
      "text/html": [
       "<div>\n",
       "<style scoped>\n",
       "    .dataframe tbody tr th:only-of-type {\n",
       "        vertical-align: middle;\n",
       "    }\n",
       "\n",
       "    .dataframe tbody tr th {\n",
       "        vertical-align: top;\n",
       "    }\n",
       "\n",
       "    .dataframe thead th {\n",
       "        text-align: right;\n",
       "    }\n",
       "</style>\n",
       "<table border=\"1\" class=\"dataframe\">\n",
       "  <thead>\n",
       "    <tr style=\"text-align: right;\">\n",
       "      <th></th>\n",
       "      <th>payment_type_id</th>\n",
       "      <th>internet_service_type_id</th>\n",
       "      <th>contract_type_id</th>\n",
       "      <th>customer_id</th>\n",
       "      <th>gender</th>\n",
       "      <th>senior_citizen</th>\n",
       "      <th>partner</th>\n",
       "      <th>dependents</th>\n",
       "      <th>tenure</th>\n",
       "      <th>phone_service</th>\n",
       "      <th>...</th>\n",
       "      <th>tech_support</th>\n",
       "      <th>streaming_tv</th>\n",
       "      <th>streaming_movies</th>\n",
       "      <th>paperless_billing</th>\n",
       "      <th>monthly_charges</th>\n",
       "      <th>total_charges</th>\n",
       "      <th>churn</th>\n",
       "      <th>contract_type</th>\n",
       "      <th>internet_service_type</th>\n",
       "      <th>payment_type</th>\n",
       "    </tr>\n",
       "  </thead>\n",
       "  <tbody>\n",
       "    <tr>\n",
       "      <th>0</th>\n",
       "      <td>2</td>\n",
       "      <td>1</td>\n",
       "      <td>2</td>\n",
       "      <td>0002-ORFBO</td>\n",
       "      <td>Female</td>\n",
       "      <td>0</td>\n",
       "      <td>Yes</td>\n",
       "      <td>Yes</td>\n",
       "      <td>9</td>\n",
       "      <td>Yes</td>\n",
       "      <td>...</td>\n",
       "      <td>Yes</td>\n",
       "      <td>Yes</td>\n",
       "      <td>No</td>\n",
       "      <td>Yes</td>\n",
       "      <td>65.6</td>\n",
       "      <td>593.3</td>\n",
       "      <td>No</td>\n",
       "      <td>One year</td>\n",
       "      <td>DSL</td>\n",
       "      <td>Mailed check</td>\n",
       "    </tr>\n",
       "    <tr>\n",
       "      <th>1</th>\n",
       "      <td>2</td>\n",
       "      <td>1</td>\n",
       "      <td>1</td>\n",
       "      <td>0003-MKNFE</td>\n",
       "      <td>Male</td>\n",
       "      <td>0</td>\n",
       "      <td>No</td>\n",
       "      <td>No</td>\n",
       "      <td>9</td>\n",
       "      <td>Yes</td>\n",
       "      <td>...</td>\n",
       "      <td>No</td>\n",
       "      <td>No</td>\n",
       "      <td>Yes</td>\n",
       "      <td>No</td>\n",
       "      <td>59.9</td>\n",
       "      <td>542.4</td>\n",
       "      <td>No</td>\n",
       "      <td>Month-to-month</td>\n",
       "      <td>DSL</td>\n",
       "      <td>Mailed check</td>\n",
       "    </tr>\n",
       "    <tr>\n",
       "      <th>2</th>\n",
       "      <td>1</td>\n",
       "      <td>2</td>\n",
       "      <td>1</td>\n",
       "      <td>0004-TLHLJ</td>\n",
       "      <td>Male</td>\n",
       "      <td>0</td>\n",
       "      <td>No</td>\n",
       "      <td>No</td>\n",
       "      <td>4</td>\n",
       "      <td>Yes</td>\n",
       "      <td>...</td>\n",
       "      <td>No</td>\n",
       "      <td>No</td>\n",
       "      <td>No</td>\n",
       "      <td>Yes</td>\n",
       "      <td>73.9</td>\n",
       "      <td>280.85</td>\n",
       "      <td>Yes</td>\n",
       "      <td>Month-to-month</td>\n",
       "      <td>Fiber optic</td>\n",
       "      <td>Electronic check</td>\n",
       "    </tr>\n",
       "    <tr>\n",
       "      <th>3</th>\n",
       "      <td>1</td>\n",
       "      <td>2</td>\n",
       "      <td>1</td>\n",
       "      <td>0011-IGKFF</td>\n",
       "      <td>Male</td>\n",
       "      <td>1</td>\n",
       "      <td>Yes</td>\n",
       "      <td>No</td>\n",
       "      <td>13</td>\n",
       "      <td>Yes</td>\n",
       "      <td>...</td>\n",
       "      <td>No</td>\n",
       "      <td>Yes</td>\n",
       "      <td>Yes</td>\n",
       "      <td>Yes</td>\n",
       "      <td>98.0</td>\n",
       "      <td>1237.85</td>\n",
       "      <td>Yes</td>\n",
       "      <td>Month-to-month</td>\n",
       "      <td>Fiber optic</td>\n",
       "      <td>Electronic check</td>\n",
       "    </tr>\n",
       "    <tr>\n",
       "      <th>4</th>\n",
       "      <td>2</td>\n",
       "      <td>2</td>\n",
       "      <td>1</td>\n",
       "      <td>0013-EXCHZ</td>\n",
       "      <td>Female</td>\n",
       "      <td>1</td>\n",
       "      <td>Yes</td>\n",
       "      <td>No</td>\n",
       "      <td>3</td>\n",
       "      <td>Yes</td>\n",
       "      <td>...</td>\n",
       "      <td>Yes</td>\n",
       "      <td>Yes</td>\n",
       "      <td>No</td>\n",
       "      <td>Yes</td>\n",
       "      <td>83.9</td>\n",
       "      <td>267.4</td>\n",
       "      <td>Yes</td>\n",
       "      <td>Month-to-month</td>\n",
       "      <td>Fiber optic</td>\n",
       "      <td>Mailed check</td>\n",
       "    </tr>\n",
       "  </tbody>\n",
       "</table>\n",
       "<p>5 rows × 24 columns</p>\n",
       "</div>"
      ],
      "text/plain": [
       "   payment_type_id  internet_service_type_id  contract_type_id customer_id  \\\n",
       "0                2                         1                 2  0002-ORFBO   \n",
       "1                2                         1                 1  0003-MKNFE   \n",
       "2                1                         2                 1  0004-TLHLJ   \n",
       "3                1                         2                 1  0011-IGKFF   \n",
       "4                2                         2                 1  0013-EXCHZ   \n",
       "\n",
       "   gender  senior_citizen partner dependents  tenure phone_service  ...  \\\n",
       "0  Female               0     Yes        Yes       9           Yes  ...   \n",
       "1    Male               0      No         No       9           Yes  ...   \n",
       "2    Male               0      No         No       4           Yes  ...   \n",
       "3    Male               1     Yes         No      13           Yes  ...   \n",
       "4  Female               1     Yes         No       3           Yes  ...   \n",
       "\n",
       "  tech_support streaming_tv streaming_movies paperless_billing  \\\n",
       "0          Yes          Yes               No               Yes   \n",
       "1           No           No              Yes                No   \n",
       "2           No           No               No               Yes   \n",
       "3           No          Yes              Yes               Yes   \n",
       "4          Yes          Yes               No               Yes   \n",
       "\n",
       "  monthly_charges total_charges churn   contract_type  internet_service_type  \\\n",
       "0            65.6         593.3    No        One year                    DSL   \n",
       "1            59.9         542.4    No  Month-to-month                    DSL   \n",
       "2            73.9        280.85   Yes  Month-to-month            Fiber optic   \n",
       "3            98.0       1237.85   Yes  Month-to-month            Fiber optic   \n",
       "4            83.9         267.4   Yes  Month-to-month            Fiber optic   \n",
       "\n",
       "       payment_type  \n",
       "0      Mailed check  \n",
       "1      Mailed check  \n",
       "2  Electronic check  \n",
       "3  Electronic check  \n",
       "4      Mailed check  \n",
       "\n",
       "[5 rows x 24 columns]"
      ]
     },
     "execution_count": 2,
     "metadata": {},
     "output_type": "execute_result"
    }
   ],
   "source": [
    "telco = acquire.telco()\n",
    "telco.head(5)"
   ]
  },
  {
   "cell_type": "code",
   "execution_count": 3,
   "id": "48738107",
   "metadata": {},
   "outputs": [
    {
     "name": "stdout",
     "output_type": "stream",
     "text": [
      "<class 'pandas.core.frame.DataFrame'>\n",
      "RangeIndex: 7043 entries, 0 to 7042\n",
      "Data columns (total 24 columns):\n",
      " #   Column                    Non-Null Count  Dtype  \n",
      "---  ------                    --------------  -----  \n",
      " 0   payment_type_id           7043 non-null   int64  \n",
      " 1   internet_service_type_id  7043 non-null   int64  \n",
      " 2   contract_type_id          7043 non-null   int64  \n",
      " 3   customer_id               7043 non-null   object \n",
      " 4   gender                    7043 non-null   object \n",
      " 5   senior_citizen            7043 non-null   int64  \n",
      " 6   partner                   7043 non-null   object \n",
      " 7   dependents                7043 non-null   object \n",
      " 8   tenure                    7043 non-null   int64  \n",
      " 9   phone_service             7043 non-null   object \n",
      " 10  multiple_lines            7043 non-null   object \n",
      " 11  online_security           7043 non-null   object \n",
      " 12  online_backup             7043 non-null   object \n",
      " 13  device_protection         7043 non-null   object \n",
      " 14  tech_support              7043 non-null   object \n",
      " 15  streaming_tv              7043 non-null   object \n",
      " 16  streaming_movies          7043 non-null   object \n",
      " 17  paperless_billing         7043 non-null   object \n",
      " 18  monthly_charges           7043 non-null   float64\n",
      " 19  total_charges             7043 non-null   object \n",
      " 20  churn                     7043 non-null   object \n",
      " 21  contract_type             7043 non-null   object \n",
      " 22  internet_service_type     7043 non-null   object \n",
      " 23  payment_type              7043 non-null   object \n",
      "dtypes: float64(1), int64(5), object(18)\n",
      "memory usage: 1.3+ MB\n"
     ]
    }
   ],
   "source": [
    "telco.info()"
   ]
  },
  {
   "cell_type": "markdown",
   "id": "80cbb05d",
   "metadata": {},
   "source": [
    "<h2>\n",
    "Prepare\n",
    "</h2>"
   ]
  },
  {
   "cell_type": "markdown",
   "id": "7ebff64b",
   "metadata": {},
   "source": [
    "Split model into test train and split"
   ]
  },
  {
   "cell_type": "code",
   "execution_count": 4,
   "id": "efd55544",
   "metadata": {},
   "outputs": [
    {
     "data": {
      "text/plain": [
       "(      gender  senior_citizen partner dependents  tenure phone_service  \\\n",
       " 5919  Female               0      No         No      58           Yes   \n",
       " 1915    Male               0      No        Yes      71           Yes   \n",
       " 5054  Female               0     Yes        Yes      35           Yes   \n",
       " 2355    Male               0     Yes        Yes       1           Yes   \n",
       " 6279    Male               1      No         No      20           Yes   \n",
       " ...      ...             ...     ...        ...     ...           ...   \n",
       " 394   Female               0      No         No      24           Yes   \n",
       " 3763  Female               0     Yes        Yes      10           Yes   \n",
       " 3444  Female               0     Yes        Yes      22           Yes   \n",
       " 1002    Male               0      No        Yes      22           Yes   \n",
       " 4192    Male               0      No         No       2           Yes   \n",
       " \n",
       "      multiple_lines      online_security        online_backup  \\\n",
       " 5919            Yes                  Yes                  Yes   \n",
       " 1915            Yes                  Yes                  Yes   \n",
       " 5054            Yes  No internet service  No internet service   \n",
       " 2355             No  No internet service  No internet service   \n",
       " 6279             No                  Yes                   No   \n",
       " ...             ...                  ...                  ...   \n",
       " 394             Yes                   No                   No   \n",
       " 3763            Yes                  Yes                   No   \n",
       " 3444            Yes  No internet service  No internet service   \n",
       " 1002            Yes                   No                  Yes   \n",
       " 4192             No  No internet service  No internet service   \n",
       " \n",
       "         device_protection  ... streaming_tv_Yes  \\\n",
       " 5919                  Yes  ...                0   \n",
       " 1915                   No  ...                0   \n",
       " 5054  No internet service  ...                0   \n",
       " 2355  No internet service  ...                0   \n",
       " 6279                   No  ...                0   \n",
       " ...                   ...  ...              ...   \n",
       " 394                   Yes  ...                1   \n",
       " 3763                   No  ...                1   \n",
       " 3444  No internet service  ...                0   \n",
       " 1002                   No  ...                1   \n",
       " 4192  No internet service  ...                0   \n",
       " \n",
       "      streaming_movies_No internet service streaming_movies_Yes  \\\n",
       " 5919                                    0                    0   \n",
       " 1915                                    0                    0   \n",
       " 5054                                    1                    0   \n",
       " 2355                                    1                    0   \n",
       " 6279                                    0                    0   \n",
       " ...                                   ...                  ...   \n",
       " 394                                     0                    0   \n",
       " 3763                                    0                    1   \n",
       " 3444                                    1                    0   \n",
       " 1002                                    0                    0   \n",
       " 4192                                    1                    0   \n",
       " \n",
       "      contract_type_One year  contract_type_Two year  \\\n",
       " 5919                      1                       0   \n",
       " 1915                      1                       0   \n",
       " 5054                      0                       0   \n",
       " 2355                      0                       0   \n",
       " 6279                      1                       0   \n",
       " ...                     ...                     ...   \n",
       " 394                       0                       0   \n",
       " 3763                      0                       0   \n",
       " 3444                      0                       1   \n",
       " 1002                      0                       0   \n",
       " 4192                      0                       0   \n",
       " \n",
       "       internet_service_type_Fiber optic internet_service_type_None  \\\n",
       " 5919                                  0                          0   \n",
       " 1915                                  1                          0   \n",
       " 5054                                  0                          1   \n",
       " 2355                                  0                          1   \n",
       " 6279                                  0                          0   \n",
       " ...                                 ...                        ...   \n",
       " 394                                   1                          0   \n",
       " 3763                                  1                          0   \n",
       " 3444                                  0                          1   \n",
       " 1002                                  1                          0   \n",
       " 4192                                  0                          1   \n",
       " \n",
       "      payment_type_Credit card (automatic) payment_type_Electronic check  \\\n",
       " 5919                                    1                             0   \n",
       " 1915                                    1                             0   \n",
       " 5054                                    0                             1   \n",
       " 2355                                    0                             0   \n",
       " 6279                                    0                             0   \n",
       " ...                                   ...                           ...   \n",
       " 394                                     1                             0   \n",
       " 3763                                    0                             1   \n",
       " 3444                                    1                             0   \n",
       " 1002                                    1                             0   \n",
       " 4192                                    0                             0   \n",
       " \n",
       "      payment_type_Mailed check  \n",
       " 5919                         0  \n",
       " 1915                         0  \n",
       " 5054                         0  \n",
       " 2355                         1  \n",
       " 6279                         1  \n",
       " ...                        ...  \n",
       " 394                          0  \n",
       " 3763                         0  \n",
       " 3444                         0  \n",
       " 1002                         0  \n",
       " 4192                         1  \n",
       " \n",
       " [3937 rows x 47 columns],\n",
       "       gender  senior_citizen partner dependents  tenure phone_service  \\\n",
       " 816   Female               0     Yes         No      27           Yes   \n",
       " 1488  Female               0     Yes         No      71           Yes   \n",
       " 4796    Male               0      No         No      44            No   \n",
       " 3213  Female               0     Yes        Yes      27           Yes   \n",
       " 5026    Male               0     Yes        Yes      62           Yes   \n",
       " ...      ...             ...     ...        ...     ...           ...   \n",
       " 1234    Male               0     Yes        Yes      62           Yes   \n",
       " 1279    Male               0      No         No      48           Yes   \n",
       " 2281    Male               0     Yes        Yes      72           Yes   \n",
       " 2536    Male               0      No        Yes      17           Yes   \n",
       " 3718    Male               0      No         No       8           Yes   \n",
       " \n",
       "         multiple_lines      online_security        online_backup  \\\n",
       " 816                Yes                   No                   No   \n",
       " 1488               Yes                  Yes                  Yes   \n",
       " 4796  No phone service                  Yes                   No   \n",
       " 3213                No  No internet service  No internet service   \n",
       " 5026                No  No internet service  No internet service   \n",
       " ...                ...                  ...                  ...   \n",
       " 1234               Yes                   No                   No   \n",
       " 1279               Yes                   No                  Yes   \n",
       " 2281               Yes                  Yes                  Yes   \n",
       " 2536                No                   No                  Yes   \n",
       " 3718               Yes                   No                   No   \n",
       " \n",
       "         device_protection  ... streaming_tv_Yes  \\\n",
       " 816                    No  ...                1   \n",
       " 1488                  Yes  ...                1   \n",
       " 4796                  Yes  ...                1   \n",
       " 3213  No internet service  ...                0   \n",
       " 5026  No internet service  ...                0   \n",
       " ...                   ...  ...              ...   \n",
       " 1234                  Yes  ...                1   \n",
       " 1279                  Yes  ...                1   \n",
       " 2281                  Yes  ...                1   \n",
       " 2536                  Yes  ...                1   \n",
       " 3718                   No  ...                0   \n",
       " \n",
       "      streaming_movies_No internet service streaming_movies_Yes  \\\n",
       " 816                                     0                    1   \n",
       " 1488                                    0                    1   \n",
       " 4796                                    0                    1   \n",
       " 3213                                    1                    0   \n",
       " 5026                                    1                    0   \n",
       " ...                                   ...                  ...   \n",
       " 1234                                    0                    0   \n",
       " 1279                                    0                    1   \n",
       " 2281                                    0                    1   \n",
       " 2536                                    0                    1   \n",
       " 3718                                    0                    1   \n",
       " \n",
       "      contract_type_One year  contract_type_Two year  \\\n",
       " 816                       0                       0   \n",
       " 1488                      0                       1   \n",
       " 4796                      1                       0   \n",
       " 3213                      0                       1   \n",
       " 5026                      0                       1   \n",
       " ...                     ...                     ...   \n",
       " 1234                      0                       1   \n",
       " 1279                      1                       0   \n",
       " 2281                      0                       1   \n",
       " 2536                      1                       0   \n",
       " 3718                      0                       0   \n",
       " \n",
       "       internet_service_type_Fiber optic internet_service_type_None  \\\n",
       " 816                                   1                          0   \n",
       " 1488                                  0                          0   \n",
       " 4796                                  0                          0   \n",
       " 3213                                  0                          1   \n",
       " 5026                                  0                          1   \n",
       " ...                                 ...                        ...   \n",
       " 1234                                  1                          0   \n",
       " 1279                                  1                          0   \n",
       " 2281                                  1                          0   \n",
       " 2536                                  0                          0   \n",
       " 3718                                  1                          0   \n",
       " \n",
       "      payment_type_Credit card (automatic) payment_type_Electronic check  \\\n",
       " 816                                     1                             0   \n",
       " 1488                                    1                             0   \n",
       " 4796                                    0                             1   \n",
       " 3213                                    0                             0   \n",
       " 5026                                    1                             0   \n",
       " ...                                   ...                           ...   \n",
       " 1234                                    1                             0   \n",
       " 1279                                    1                             0   \n",
       " 2281                                    0                             0   \n",
       " 2536                                    0                             1   \n",
       " 3718                                    0                             1   \n",
       " \n",
       "      payment_type_Mailed check  \n",
       " 816                          0  \n",
       " 1488                         0  \n",
       " 4796                         0  \n",
       " 3213                         1  \n",
       " 5026                         0  \n",
       " ...                        ...  \n",
       " 1234                         0  \n",
       " 1279                         0  \n",
       " 2281                         0  \n",
       " 2536                         0  \n",
       " 3718                         0  \n",
       " \n",
       " [1688 rows x 47 columns],\n",
       "       gender  senior_citizen partner dependents  tenure phone_service  \\\n",
       " 3311  Female               0      No         No      29           Yes   \n",
       " 6330    Male               0     Yes        Yes      36           Yes   \n",
       " 6156    Male               1      No         No       1           Yes   \n",
       " 5313    Male               0      No         No      25           Yes   \n",
       " 1176  Female               0     Yes         No      34           Yes   \n",
       " ...      ...             ...     ...        ...     ...           ...   \n",
       " 600   Female               0      No         No      54           Yes   \n",
       " 3946    Male               0      No        Yes      10           Yes   \n",
       " 3230    Male               0      No         No      57            No   \n",
       " 349   Female               1      No         No      24           Yes   \n",
       " 3690    Male               0     Yes        Yes      35           Yes   \n",
       " \n",
       "         multiple_lines      online_security        online_backup  \\\n",
       " 3311                No  No internet service  No internet service   \n",
       " 6330               Yes  No internet service  No internet service   \n",
       " 6156                No                   No                   No   \n",
       " 5313                No                   No                   No   \n",
       " 1176                No                   No                   No   \n",
       " ...                ...                  ...                  ...   \n",
       " 600                Yes                  Yes                   No   \n",
       " 3946               Yes  No internet service  No internet service   \n",
       " 3230  No phone service                   No                  Yes   \n",
       " 349                 No  No internet service  No internet service   \n",
       " 3690                No                   No                  Yes   \n",
       " \n",
       "         device_protection  ... streaming_tv_Yes  \\\n",
       " 3311  No internet service  ...                0   \n",
       " 6330  No internet service  ...                0   \n",
       " 6156                   No  ...                0   \n",
       " 5313                   No  ...                0   \n",
       " 1176                   No  ...                0   \n",
       " ...                   ...  ...              ...   \n",
       " 600                   Yes  ...                1   \n",
       " 3946  No internet service  ...                0   \n",
       " 3230                   No  ...                1   \n",
       " 349   No internet service  ...                0   \n",
       " 3690                   No  ...                1   \n",
       " \n",
       "      streaming_movies_No internet service streaming_movies_Yes  \\\n",
       " 3311                                    1                    0   \n",
       " 6330                                    1                    0   \n",
       " 6156                                    0                    0   \n",
       " 5313                                    0                    0   \n",
       " 1176                                    0                    0   \n",
       " ...                                   ...                  ...   \n",
       " 600                                     0                    1   \n",
       " 3946                                    1                    0   \n",
       " 3230                                    0                    0   \n",
       " 349                                     1                    0   \n",
       " 3690                                    0                    0   \n",
       " \n",
       "      contract_type_One year  contract_type_Two year  \\\n",
       " 3311                      1                       0   \n",
       " 6330                      0                       1   \n",
       " 6156                      0                       0   \n",
       " 5313                      0                       0   \n",
       " 1176                      0                       0   \n",
       " ...                     ...                     ...   \n",
       " 600                       1                       0   \n",
       " 3946                      0                       0   \n",
       " 3230                      0                       0   \n",
       " 349                       0                       0   \n",
       " 3690                      1                       0   \n",
       " \n",
       "       internet_service_type_Fiber optic internet_service_type_None  \\\n",
       " 3311                                  0                          1   \n",
       " 6330                                  0                          1   \n",
       " 6156                                  0                          0   \n",
       " 5313                                  1                          0   \n",
       " 1176                                  0                          0   \n",
       " ...                                 ...                        ...   \n",
       " 600                                   1                          0   \n",
       " 3946                                  0                          1   \n",
       " 3230                                  0                          0   \n",
       " 349                                   0                          1   \n",
       " 3690                                  1                          0   \n",
       " \n",
       "      payment_type_Credit card (automatic) payment_type_Electronic check  \\\n",
       " 3311                                    0                             0   \n",
       " 6330                                    1                             0   \n",
       " 6156                                    0                             1   \n",
       " 5313                                    0                             1   \n",
       " 1176                                    0                             0   \n",
       " ...                                   ...                           ...   \n",
       " 600                                     0                             0   \n",
       " 3946                                    1                             0   \n",
       " 3230                                    0                             1   \n",
       " 349                                     0                             0   \n",
       " 3690                                    0                             1   \n",
       " \n",
       "      payment_type_Mailed check  \n",
       " 3311                         1  \n",
       " 6330                         0  \n",
       " 6156                         0  \n",
       " 5313                         0  \n",
       " 1176                         0  \n",
       " ...                        ...  \n",
       " 600                          0  \n",
       " 3946                         0  \n",
       " 3230                         0  \n",
       " 349                          1  \n",
       " 3690                         0  \n",
       " \n",
       " [1407 rows x 47 columns])"
      ]
     },
     "execution_count": 4,
     "metadata": {},
     "output_type": "execute_result"
    }
   ],
   "source": [
    "train, validate, test = prepare.prep_telco_data(telco)\n",
    "train, validate, test"
   ]
  },
  {
   "cell_type": "code",
   "execution_count": 5,
   "id": "65b3f5ce",
   "metadata": {},
   "outputs": [
    {
     "data": {
      "text/plain": [
       "((3937, 47), (1688, 47), (1407, 47))"
      ]
     },
     "execution_count": 5,
     "metadata": {},
     "output_type": "execute_result"
    }
   ],
   "source": [
    "train.shape, validate.shape, test.shape"
   ]
  },
  {
   "cell_type": "markdown",
   "id": "b1a42753",
   "metadata": {},
   "source": [
    "<h2>\n",
    "    Explore\n",
    "</h2>"
   ]
  },
  {
   "cell_type": "code",
   "execution_count": 6,
   "id": "451b8885",
   "metadata": {},
   "outputs": [
    {
     "data": {
      "text/plain": [
       "Text(0.5, 0, 'Churned')"
      ]
     },
     "execution_count": 6,
     "metadata": {},
     "output_type": "execute_result"
    },
    {
     "data": {
      "image/png": "[encoded data removed]",
      "text/plain": [
       "<Figure size 432x288 with 1 Axes>"
      ]
     },
     "metadata": {
      "needs_background": "light"
     },
     "output_type": "display_data"
    }
   ],
   "source": [
    "train.churn.value_counts().sort_index().plot.bar()\n",
    "churn_rate = train.churn_encoded.mean()\n",
    "plt.title(f\"Overall churn rate: {churn_rate:.2%}\")\n",
    "plt.xlabel('Churned')"
   ]
  },
  {
   "cell_type": "code",
   "execution_count": 7,
   "id": "e2c25c15",
   "metadata": {},
   "outputs": [
    {
     "data": {
      "image/png": "[encoded data removed]",
      "text/plain": [
       "<Figure size 1152x432 with 4 Axes>"
      ]
     },
     "metadata": {
      "needs_background": "light"
     },
     "output_type": "display_data"
    }
   ],
   "source": [
    "features = ['gender',\n",
    "            'senior_citizen',\n",
    "            'partner',\n",
    "            'dependents',]\n",
    "\n",
    "_, ax = plt.subplots(nrows=1, ncols=4, figsize=(16, 6), sharey=True)\n",
    "for i, feature in enumerate(features):\n",
    "    sns.barplot(feature, 'churn_encoded', data=train, ax=ax[i])\n",
    "    ax[i].set_xlabel('')\n",
    "    ax[i].set_ylabel('Churn Rate')\n",
    "    ax[i].set_title(feature)\n",
    "    ax[i].axhline(churn_rate, ls='--', color='grey')"
   ]
  },
  {
   "cell_type": "code",
   "execution_count": 8,
   "id": "4d72975d",
   "metadata": {},
   "outputs": [
    {
     "data": {
      "image/png": "[encoded data removed]",
      "text/plain": [
       "<Figure size 1152x432 with 3 Axes>"
      ]
     },
     "metadata": {
      "needs_background": "light"
     },
     "output_type": "display_data"
    }
   ],
   "source": [
    "features = ['phone_service',\n",
    "            'multiple_lines',\n",
    "            'online_security']\n",
    "\n",
    "_, ax = plt.subplots(nrows=1, ncols=3, figsize=(16, 6), sharey=True)\n",
    "for i, feature in enumerate(features):\n",
    "    sns.barplot(feature, 'churn_encoded', data=train, ax=ax[i])\n",
    "    ax[i].set_xlabel('')\n",
    "    ax[i].set_ylabel('Churn Rate')\n",
    "    ax[i].set_title(feature)\n",
    "    ax[i].axhline(churn_rate, ls='--', color='grey')"
   ]
  },
  {
   "cell_type": "code",
   "execution_count": 9,
   "id": "f685a62e",
   "metadata": {},
   "outputs": [
    {
     "data": {
      "image/png": "[encoded data removed]",
      "text/plain": [
       "<Figure size 1152x432 with 4 Axes>"
      ]
     },
     "metadata": {
      "needs_background": "light"
     },
     "output_type": "display_data"
    }
   ],
   "source": [
    "features = ['online_backup',\n",
    "            'device_protection',\n",
    "            'tech_support',\n",
    "            'streaming_tv']\n",
    "\n",
    "_, ax = plt.subplots(nrows=1, ncols=4, figsize=(16, 6), sharey=True)\n",
    "for i, feature in enumerate(features):\n",
    "    sns.barplot(feature, 'churn_encoded', data=train, ax=ax[i])\n",
    "    ax[i].set_xlabel('')\n",
    "    ax[i].set_ylabel('Churn Rate')\n",
    "    ax[i].set_title(feature)\n",
    "    ax[i].axhline(churn_rate, ls='--', color='grey')"
   ]
  },
  {
   "cell_type": "code",
   "execution_count": 10,
   "id": "27941a3b",
   "metadata": {},
   "outputs": [
    {
     "data": {
      "image/png": "[encoded data removed]",
      "text/plain": [
       "<Figure size 1152x432 with 3 Axes>"
      ]
     },
     "metadata": {
      "needs_background": "light"
     },
     "output_type": "display_data"
    }
   ],
   "source": [
    "features = ['streaming_movies',\n",
    "            'paperless_billing',\n",
    "            'contract_type']\n",
    "\n",
    "_, ax = plt.subplots(nrows=1, ncols=3, figsize=(16, 6), sharey=True)\n",
    "for i, feature in enumerate(features):\n",
    "    sns.barplot(feature, 'churn_encoded', data=train, ax=ax[i])\n",
    "    ax[i].set_xlabel('')\n",
    "    ax[i].set_ylabel('Churn Rate')\n",
    "    ax[i].set_title(feature)\n",
    "    ax[i].axhline(churn_rate, ls='--', color='grey')"
   ]
  },
  {
   "cell_type": "code",
   "execution_count": 11,
   "id": "ee53cf15",
   "metadata": {},
   "outputs": [
    {
     "data": {
      "image/png": "[encoded data removed]",
      "text/plain": [
       "<Figure size 1152x432 with 2 Axes>"
      ]
     },
     "metadata": {
      "needs_background": "light"
     },
     "output_type": "display_data"
    }
   ],
   "source": [
    "features = ['internet_service_type','payment_type']\n",
    "\n",
    "_, ax = plt.subplots(nrows=1, ncols=2, figsize=(16, 6), sharey=True)\n",
    "for i, feature in enumerate(features):\n",
    "    sns.barplot(feature, 'churn_encoded', data=train, ax=ax[i])\n",
    "    ax[i].set_xlabel('')\n",
    "    ax[i].set_ylabel('Churn Rate')\n",
    "    ax[i].set_title(feature)\n",
    "    ax[i].axhline(churn_rate, ls='--', color='grey')"
   ]
  },
  {
   "cell_type": "code",
   "execution_count": 12,
   "id": "590551fb",
   "metadata": {},
   "outputs": [
    {
     "data": {
      "text/plain": [
       "Text(0, 0.5, 'Churn Rate')"
      ]
     },
     "execution_count": 12,
     "metadata": {},
     "output_type": "execute_result"
    },
    {
     "data": {
      "image/png": "[encoded data removed]",
      "text/plain": [
       "<Figure size 936x720 with 1 Axes>"
      ]
     },
     "metadata": {
      "needs_background": "light"
     },
     "output_type": "display_data"
    }
   ],
   "source": [
    "plt.figure('figure', figsize=(13, 10))\n",
    "plt.title(\"Tenure in months vs Rate of Churn\", fontsize=17)\n",
    "ax = sns.lineplot(x=\"tenure\", y=\"churn_encoded\", data=train)\n",
    "plt.ylabel('Churn Rate')"
   ]
  },
  {
   "cell_type": "markdown",
   "id": "efca8cf0",
   "metadata": {},
   "source": [
    "This about wraps up easily where I can get the most bang for my buck when it comes to the variables"
   ]
  },
  {
   "cell_type": "code",
   "execution_count": 13,
   "id": "ff04271b",
   "metadata": {},
   "outputs": [
    {
     "data": {
      "image/png": "[encoded data removed]",
      "text/plain": [
       "<Figure size 1152x432 with 3 Axes>"
      ]
     },
     "metadata": {
      "needs_background": "light"
     },
     "output_type": "display_data"
    }
   ],
   "source": [
    "features = ['payment_type','internet_service_type','contract_type']\n",
    "\n",
    "_, ax = plt.subplots(nrows=1, ncols=3, figsize=(16, 6), sharey=True)\n",
    "for i, feature in enumerate(features):\n",
    "    sns.barplot(feature, 'churn_encoded', data=train, ax=ax[i])\n",
    "    ax[i].set_xlabel('')\n",
    "    ax[i].set_ylabel('Churn Rate')\n",
    "    ax[i].set_title(feature)\n",
    "    ax[i].axhline(churn_rate, ls='--', color='grey')\n",
    "#this set of variables will be what I work through\n",
    "#this is where i put my statistical stuff done"
   ]
  },
  {
   "cell_type": "code",
   "execution_count": 14,
   "id": "de86a4f5",
   "metadata": {},
   "outputs": [
    {
     "data": {
      "text/plain": [
       "Yes    468\n",
       "No     394\n",
       "Name: churn, dtype: int64"
      ]
     },
     "execution_count": 14,
     "metadata": {},
     "output_type": "execute_result"
    }
   ],
   "source": [
    "# subgroup\n",
    "churned_electric_check_and_fiber = train.churn[(train.payment_type == 'Electronic check') & (train.internet_service_type == 'Fiber optic')]\n",
    "#from here i cross tab because churn already a binary value\n",
    "churned_electric_check_and_fiber.value_counts()"
   ]
  },
  {
   "cell_type": "code",
   "execution_count": 15,
   "id": "8735e02e",
   "metadata": {},
   "outputs": [
    {
     "data": {
      "text/html": [
       "<div>\n",
       "<style scoped>\n",
       "    .dataframe tbody tr th:only-of-type {\n",
       "        vertical-align: middle;\n",
       "    }\n",
       "\n",
       "    .dataframe tbody tr th {\n",
       "        vertical-align: top;\n",
       "    }\n",
       "\n",
       "    .dataframe thead th {\n",
       "        text-align: right;\n",
       "    }\n",
       "</style>\n",
       "<table border=\"1\" class=\"dataframe\">\n",
       "  <thead>\n",
       "    <tr style=\"text-align: right;\">\n",
       "      <th>churn</th>\n",
       "      <th>No</th>\n",
       "      <th>Yes</th>\n",
       "    </tr>\n",
       "    <tr>\n",
       "      <th>churn</th>\n",
       "      <th></th>\n",
       "      <th></th>\n",
       "    </tr>\n",
       "  </thead>\n",
       "  <tbody>\n",
       "    <tr>\n",
       "      <th>No</th>\n",
       "      <td>708</td>\n",
       "      <td>0</td>\n",
       "    </tr>\n",
       "    <tr>\n",
       "      <th>Yes</th>\n",
       "      <td>0</td>\n",
       "      <td>581</td>\n",
       "    </tr>\n",
       "  </tbody>\n",
       "</table>\n",
       "</div>"
      ],
      "text/plain": [
       "churn   No  Yes\n",
       "churn          \n",
       "No     708    0\n",
       "Yes      0  581"
      ]
     },
     "execution_count": 15,
     "metadata": {},
     "output_type": "execute_result"
    }
   ],
   "source": [
    "electronic_check = train.churn[train.payment_type == 'Electronic check']\n",
    "pd.crosstab(electronic_check, train.churn)"
   ]
  },
  {
   "cell_type": "code",
   "execution_count": 16,
   "id": "003af7ac",
   "metadata": {},
   "outputs": [
    {
     "data": {
      "text/html": [
       "<div>\n",
       "<style scoped>\n",
       "    .dataframe tbody tr th:only-of-type {\n",
       "        vertical-align: middle;\n",
       "    }\n",
       "\n",
       "    .dataframe tbody tr th {\n",
       "        vertical-align: top;\n",
       "    }\n",
       "\n",
       "    .dataframe thead th {\n",
       "        text-align: right;\n",
       "    }\n",
       "</style>\n",
       "<table border=\"1\" class=\"dataframe\">\n",
       "  <thead>\n",
       "    <tr style=\"text-align: right;\">\n",
       "      <th>churn</th>\n",
       "      <th>No</th>\n",
       "      <th>Yes</th>\n",
       "    </tr>\n",
       "    <tr>\n",
       "      <th>churn</th>\n",
       "      <th></th>\n",
       "      <th></th>\n",
       "    </tr>\n",
       "  </thead>\n",
       "  <tbody>\n",
       "    <tr>\n",
       "      <th>No</th>\n",
       "      <td>708</td>\n",
       "      <td>0</td>\n",
       "    </tr>\n",
       "    <tr>\n",
       "      <th>Yes</th>\n",
       "      <td>0</td>\n",
       "      <td>581</td>\n",
       "    </tr>\n",
       "  </tbody>\n",
       "</table>\n",
       "</div>"
      ],
      "text/plain": [
       "churn   No  Yes\n",
       "churn          \n",
       "No     708    0\n",
       "Yes      0  581"
      ]
     },
     "execution_count": 16,
     "metadata": {},
     "output_type": "execute_result"
    }
   ],
   "source": [
    "ctab = pd.crosstab(electronic_check, train.churn)\n",
    "ctab"
   ]
  },
  {
   "cell_type": "code",
   "execution_count": 17,
   "id": "6ec68922",
   "metadata": {},
   "outputs": [
    {
     "data": {
      "text/plain": [
       "5054     No\n",
       "6992    Yes\n",
       "4352     No\n",
       "6845    Yes\n",
       "3171    Yes\n",
       "       ... \n",
       "2208     No\n",
       "2579    Yes\n",
       "2194    Yes\n",
       "659     Yes\n",
       "3763    Yes\n",
       "Name: churn, Length: 1289, dtype: object"
      ]
     },
     "execution_count": 17,
     "metadata": {},
     "output_type": "execute_result"
    }
   ],
   "source": [
    "electronic_check"
   ]
  },
  {
   "cell_type": "markdown",
   "id": "717926c0",
   "metadata": {},
   "source": [
    "### take aways:\n",
    "My targets are fiber internet, electronic checks, and month to month payers"
   ]
  },
  {
   "cell_type": "markdown",
   "id": "b8589356",
   "metadata": {},
   "source": [
    "<h2>\n",
    "    Statistical Testing\n",
    "</h2>"
   ]
  },
  {
   "cell_type": "code",
   "execution_count": 18,
   "id": "1b35f709",
   "metadata": {},
   "outputs": [],
   "source": [
    "alpha = 0.05"
   ]
  },
  {
   "cell_type": "markdown",
   "id": "cc607081",
   "metadata": {},
   "source": [
    "## Modeling"
   ]
  },
  {
   "cell_type": "markdown",
   "id": "b6ceb4ef",
   "metadata": {},
   "source": [
    "in my models I am going to need to have so sort of accuracy for what my baseline will be"
   ]
  },
  {
   "cell_type": "code",
   "execution_count": 26,
   "id": "7a03e240",
   "metadata": {},
   "outputs": [
    {
     "name": "stdout",
     "output_type": "stream",
     "text": [
      "Baseline Accuracy: 73.40%\n"
     ]
    }
   ],
   "source": [
    "baseline_accuracy = (evaluations.baseline == evaluations.actual).mean()\n",
    "\n",
    "print(f'Baseline Accuracy: {baseline_accuracy:.2%}')"
   ]
  },
  {
   "cell_type": "code",
   "execution_count": 19,
   "id": "4887b409",
   "metadata": {},
   "outputs": [],
   "source": [
    "def feature_target_selector(features, target, train=train, validate=validate, test=test):\n",
    "    X_train = train[features]\n",
    "    y_train = train[target]\n",
    "    X_validate = validate[features]\n",
    "    y_validate = validate[target]\n",
    "    X_test = test[features]\n",
    "    y_test = test[target]\n",
    "    return X_train, y_train, X_validate, y_validate, X_test, y_test"
   ]
  },
  {
   "cell_type": "code",
   "execution_count": 20,
   "id": "db62f970",
   "metadata": {},
   "outputs": [
    {
     "data": {
      "text/plain": [
       "Index(['gender', 'senior_citizen', 'partner', 'dependents', 'tenure',\n",
       "       'phone_service', 'multiple_lines', 'online_security', 'online_backup',\n",
       "       'device_protection', 'tech_support', 'streaming_tv', 'streaming_movies',\n",
       "       'paperless_billing', 'monthly_charges', 'total_charges', 'churn',\n",
       "       'contract_type', 'internet_service_type', 'payment_type',\n",
       "       'gender_encoded', 'partner_encoded', 'dependents_encoded',\n",
       "       'phone_service_encoded', 'paperless_billing_encoded', 'churn_encoded',\n",
       "       'multiple_lines_No phone service', 'multiple_lines_Yes',\n",
       "       'online_security_No internet service', 'online_security_Yes',\n",
       "       'online_backup_No internet service', 'online_backup_Yes',\n",
       "       'device_protection_No internet service', 'device_protection_Yes',\n",
       "       'tech_support_No internet service', 'tech_support_Yes',\n",
       "       'streaming_tv_No internet service', 'streaming_tv_Yes',\n",
       "       'streaming_movies_No internet service', 'streaming_movies_Yes',\n",
       "       'contract_type_One year', 'contract_type_Two year',\n",
       "       'internet_service_type_Fiber optic', 'internet_service_type_None',\n",
       "       'payment_type_Credit card (automatic)', 'payment_type_Electronic check',\n",
       "       'payment_type_Mailed check'],\n",
       "      dtype='object')"
      ]
     },
     "execution_count": 20,
     "metadata": {},
     "output_type": "execute_result"
    }
   ],
   "source": [
    "train.columns"
   ]
  },
  {
   "cell_type": "code",
   "execution_count": 28,
   "id": "28fd9ee9",
   "metadata": {},
   "outputs": [
    {
     "name": "stdout",
     "output_type": "stream",
     "text": [
      "<class 'pandas.core.frame.DataFrame'>\n",
      "Int64Index: 3937 entries, 5919 to 4192\n",
      "Data columns (total 47 columns):\n",
      " #   Column                                 Non-Null Count  Dtype  \n",
      "---  ------                                 --------------  -----  \n",
      " 0   gender                                 3937 non-null   object \n",
      " 1   senior_citizen                         3937 non-null   int64  \n",
      " 2   partner                                3937 non-null   object \n",
      " 3   dependents                             3937 non-null   object \n",
      " 4   tenure                                 3937 non-null   int64  \n",
      " 5   phone_service                          3937 non-null   object \n",
      " 6   multiple_lines                         3937 non-null   object \n",
      " 7   online_security                        3937 non-null   object \n",
      " 8   online_backup                          3937 non-null   object \n",
      " 9   device_protection                      3937 non-null   object \n",
      " 10  tech_support                           3937 non-null   object \n",
      " 11  streaming_tv                           3937 non-null   object \n",
      " 12  streaming_movies                       3937 non-null   object \n",
      " 13  paperless_billing                      3937 non-null   object \n",
      " 14  monthly_charges                        3937 non-null   float64\n",
      " 15  total_charges                          3937 non-null   float64\n",
      " 16  churn                                  3937 non-null   object \n",
      " 17  contract_type                          3937 non-null   object \n",
      " 18  internet_service_type                  3937 non-null   object \n",
      " 19  payment_type                           3937 non-null   object \n",
      " 20  gender_encoded                         3937 non-null   int64  \n",
      " 21  partner_encoded                        3937 non-null   int64  \n",
      " 22  dependents_encoded                     3937 non-null   int64  \n",
      " 23  phone_service_encoded                  3937 non-null   int64  \n",
      " 24  paperless_billing_encoded              3937 non-null   int64  \n",
      " 25  churn_encoded                          3937 non-null   int64  \n",
      " 26  multiple_lines_No phone service        3937 non-null   uint8  \n",
      " 27  multiple_lines_Yes                     3937 non-null   uint8  \n",
      " 28  online_security_No internet service    3937 non-null   uint8  \n",
      " 29  online_security_Yes                    3937 non-null   uint8  \n",
      " 30  online_backup_No internet service      3937 non-null   uint8  \n",
      " 31  online_backup_Yes                      3937 non-null   uint8  \n",
      " 32  device_protection_No internet service  3937 non-null   uint8  \n",
      " 33  device_protection_Yes                  3937 non-null   uint8  \n",
      " 34  tech_support_No internet service       3937 non-null   uint8  \n",
      " 35  tech_support_Yes                       3937 non-null   uint8  \n",
      " 36  streaming_tv_No internet service       3937 non-null   uint8  \n",
      " 37  streaming_tv_Yes                       3937 non-null   uint8  \n",
      " 38  streaming_movies_No internet service   3937 non-null   uint8  \n",
      " 39  streaming_movies_Yes                   3937 non-null   uint8  \n",
      " 40  contract_type_One year                 3937 non-null   uint8  \n",
      " 41  contract_type_Two year                 3937 non-null   uint8  \n",
      " 42  internet_service_type_Fiber optic      3937 non-null   uint8  \n",
      " 43  internet_service_type_None             3937 non-null   uint8  \n",
      " 44  payment_type_Credit card (automatic)   3937 non-null   uint8  \n",
      " 45  payment_type_Electronic check          3937 non-null   uint8  \n",
      " 46  payment_type_Mailed check              3937 non-null   uint8  \n",
      "dtypes: float64(2), int64(8), object(16), uint8(21)\n",
      "memory usage: 1.0+ MB\n"
     ]
    }
   ],
   "source": [
    "train.info()"
   ]
  },
  {
   "cell_type": "markdown",
   "id": "e7d66d77",
   "metadata": {},
   "source": [
    "# features = ['payment_type','internet_service_type','contract_type']\n",
    "# target = ['churn_encoded']\n",
    "# X_train, y_train, X_validate, y_validate, X_test, y_test = feature_target_selector(features, target)"
   ]
  },
  {
   "cell_type": "markdown",
   "id": "16df1ca6",
   "metadata": {},
   "source": [
    "# evaluations = pd.DataFrame({\"actual\": y_validate.churn_encoded})\n",
    "# evaluations[\"baseline\"] = 0\n",
    "# matrix = pd.crosstab(evaluations.actual, evaluations.baseline)\n",
    "# matrix"
   ]
  },
  {
   "cell_type": "markdown",
   "id": "c504a8bb",
   "metadata": {},
   "source": [
    "# logit = LogisticRegression(random_state=123, solver='lbfgs')\n",
    "# logit.fit(X_train, y_train)\n",
    "# print('Coefficient: \\n', logit.coef_)\n",
    "# print('Intercept: \\n', logit.intercept_)"
   ]
  },
  {
   "cell_type": "code",
   "execution_count": null,
   "id": "040f4655",
   "metadata": {},
   "outputs": [],
   "source": []
  }
 ],
 "metadata": {
  "kernelspec": {
   "display_name": "Python 3 (ipykernel)",
   "language": "python",
   "name": "python3"
  },
  "language_info": {
   "codemirror_mode": {
    "name": "ipython",
    "version": 3
   },
   "file_extension": ".py",
   "mimetype": "text/x-python",
   "name": "python",
   "nbconvert_exporter": "python",
   "pygments_lexer": "ipython3",
   "version": "3.9.7"
  }
 },
 "nbformat": 4,
 "nbformat_minor": 5
}
